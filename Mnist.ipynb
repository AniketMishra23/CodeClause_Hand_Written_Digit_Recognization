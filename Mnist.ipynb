{
  "cells": [
    {
      "attachments": {},
      "cell_type": "markdown",
      "metadata": {},
      "source": [
        "<a href=\"https://colab.research.google.com/github/AniketMishra23/Mnist-Dataset/blob/main/Mnist.ipynb\" target=\"_parent\"><img src=\"https://colab.research.google.com/assets/colab-badge.svg\" alt=\"Open In Colab\"/></a>"
      ]
    },
    {
      "attachments": {},
      "cell_type": "markdown",
      "metadata": {},
      "source": [
        "# ***Hand Written Digit Recognization***\n",
        "*By Aniket Bharat Mishra*"
      ]
    },
    {
      "cell_type": "code",
      "execution_count": 1,
      "metadata": {
        "id": "HaCBBP_wfh2U"
      },
      "outputs": [],
      "source": [
        "import numpy as np\n",
        "import matplotlib.pyplot as plt\n",
        "\n",
        "import keras\n",
        "from keras.datasets import mnist\n",
        "\n",
        "import tensorflow\n",
        "\n",
        "from keras.models import Sequential\n",
        "from keras.layers import Dense, Flatten, Conv2D, MaxPool2D, Dropout\n",
        "from tensorflow.keras.utils import to_categorical"
      ]
    },
    {
      "cell_type": "code",
      "execution_count": 2,
      "metadata": {
        "id": "_753uGn2uo7y"
      },
      "outputs": [],
      "source": [
        "from keras import utils as np_utils"
      ]
    },
    {
      "cell_type": "code",
      "execution_count": 3,
      "metadata": {
        "colab": {
          "base_uri": "https://localhost:8080/"
        },
        "id": "JGKI7rRRoc6z",
        "outputId": "c5528fa1-255b-41c0-a54c-471943168459"
      },
      "outputs": [
        {
          "name": "stdout",
          "output_type": "stream",
          "text": [
            "Downloading data from https://storage.googleapis.com/tensorflow/tf-keras-datasets/mnist.npz\n",
            "11490434/11490434 [==============================] - 1s 0us/step\n"
          ]
        },
        {
          "data": {
            "text/plain": [
              "((60000, 28, 28), (60000,), (10000, 28, 28), (10000,))"
            ]
          },
          "execution_count": 3,
          "metadata": {},
          "output_type": "execute_result"
        }
      ],
      "source": [
        "(x_train, y_train), (x_test, y_test) = mnist.load_data()\n",
        "\n",
        "x_train.shape, y_train.shape,  x_test.shape,  y_test.shape"
      ]
    },
    {
      "cell_type": "code",
      "execution_count": 4,
      "metadata": {
        "id": "m5qdZEHrs7lf"
      },
      "outputs": [],
      "source": [
        "def plot_input_img(i):\n",
        "    plt.imshow(x_train[i] , cmap='binary')\n",
        "    plt.title(y_train[i])\n",
        "    plt.show()"
      ]
    },
    {
      "cell_type": "code",
      "execution_count": 5,
      "metadata": {
        "colab": {
          "base_uri": "https://localhost:8080/",
          "height": 545
        },
        "id": "AAq322ZqwzO0",
        "outputId": "41f5c873-d17e-49f7-88fa-9cc97a943b64"
      },
      "outputs": [
        {
          "data": {
            "image/png": "[encoded data removed]",
            "text/plain": [
              "<Figure size 432x288 with 1 Axes>"
            ]
          },
          "metadata": {
            "needs_background": "light"
          },
          "output_type": "display_data"
        },
        {
          "data": {
            "image/png": "[encoded data removed]",
            "text/plain": [
              "<Figure size 432x288 with 1 Axes>"
            ]
          },
          "metadata": {
            "needs_background": "light"
          },
          "output_type": "display_data"
        }
      ],
      "source": [
        "for i in range(2):\n",
        "  plot_input_img(i)"
      ]
    },
    {
      "cell_type": "code",
      "execution_count": 6,
      "metadata": {
        "id": "8xUfAQ0E4u8f"
      },
      "outputs": [],
      "source": [
        "#Preprocessing the image\n",
        "\n",
        "#Normalizing the image in [0,1] range\n",
        "x_train = x_train.astype(np.float32)/255\n",
        "x_test = x_test.astype(np.float32)/255\n",
        "\n",
        "#Reshape / Expand the dimension of images to (28,28,1)\n",
        "x_train = np.expand_dims(x_train, -1)\n",
        "x_test = np.expand_dims(x_test, -1)\n",
        "\n",
        "#Convert class to one hot vector\n",
        "y_train =  tensorflow.keras.utils.to_categorical(y_train)\n",
        "y_test =  tensorflow.keras.utils.to_categorical(y_test)"
      ]
    },
    {
      "cell_type": "code",
      "execution_count": 7,
      "metadata": {
        "id": "Ji5OryLjuOpA"
      },
      "outputs": [],
      "source": [
        "model = Sequential()\n",
        "\n",
        "model.add(Conv2D(32,(3,3), input_shape = (28, 28,1), activation= 'relu'))\n",
        "model.add(MaxPool2D((2,2)))\n",
        "\n",
        "model.add(Conv2D(64,(3,3) , activation= 'relu') )\n",
        "model.add(MaxPool2D((2,2)))\n",
        "\n",
        "model.add(Flatten())\n",
        "model.add(Dropout(0.25))\n",
        "model.add(Dense(10,activation=\"softmax\"))"
      ]
    },
    {
      "cell_type": "code",
      "execution_count": 8,
      "metadata": {
        "colab": {
          "base_uri": "https://localhost:8080/"
        },
        "id": "WooGScuQxfN8",
        "outputId": "a42dd140-d9a6-4175-8e36-0e8b882362aa"
      },
      "outputs": [
        {
          "name": "stdout",
          "output_type": "stream",
          "text": [
            "Model: \"sequential\"\n",
            "_________________________________________________________________\n",
            " Layer (type)                Output Shape              Param #   \n",
            "=================================================================\n",
            " conv2d (Conv2D)             (None, 26, 26, 32)        320       \n",
            "                                                                 \n",
            " max_pooling2d (MaxPooling2D  (None, 13, 13, 32)       0         \n",
            " )                                                               \n",
            "                                                                 \n",
            " conv2d_1 (Conv2D)           (None, 11, 11, 64)        18496     \n",
            "                                                                 \n",
            " max_pooling2d_1 (MaxPooling  (None, 5, 5, 64)         0         \n",
            " 2D)                                                             \n",
            "                                                                 \n",
            " flatten (Flatten)           (None, 1600)              0         \n",
            "                                                                 \n",
            " dropout (Dropout)           (None, 1600)              0         \n",
            "                                                                 \n",
            " dense (Dense)               (None, 10)                16010     \n",
            "                                                                 \n",
            "=================================================================\n",
            "Total params: 34,826\n",
            "Trainable params: 34,826\n",
            "Non-trainable params: 0\n",
            "_________________________________________________________________\n"
          ]
        }
      ],
      "source": [
        "model.summary()"
      ]
    },
    {
      "cell_type": "code",
      "execution_count": 9,
      "metadata": {
        "id": "yqjWe2vyCSMm"
      },
      "outputs": [],
      "source": [
        "model.compile(optimizer= 'adam', loss= keras.losses.categorical_crossentropy, metrics=['accuracy'])"
      ]
    },
    {
      "cell_type": "code",
      "execution_count": 10,
      "metadata": {
        "id": "LR4t7oQHAgd0"
      },
      "outputs": [],
      "source": [
        "#Callbacks\n",
        "from keras.callbacks import EarlyStopping, ModelCheckpoint\n",
        "#Earlystopping\n",
        "\n",
        "es = EarlyStopping(monitor= 'val_acc', min_delta= 0.01, patience= 4, verbose= 1)\n",
        "#Model Check Point\n",
        "mc = ModelCheckpoint(\"./bestmodel.h5\", monitors= \"val acc\", verbose= 1, save_best_onlys= True)\n",
        "\n",
        "cb = [es,mc]"
      ]
    },
    {
      "cell_type": "code",
      "execution_count": 11,
      "metadata": {
        "colab": {
          "base_uri": "https://localhost:8080/"
        },
        "id": "195txs4aBIrT",
        "outputId": "51ea2802-54f2-4470-8e80-4cf1509419a2"
      },
      "outputs": [
        {
          "name": "stdout",
          "output_type": "stream",
          "text": [
            "Epoch 1/5\n",
            "1311/1313 [============================>.] - ETA: 0s - loss: 0.2165 - accuracy: 0.9350"
          ]
        },
        {
          "name": "stderr",
          "output_type": "stream",
          "text": [
            "WARNING:tensorflow:Early stopping conditioned on metric `val_acc` which is not available. Available metrics are: loss,accuracy,val_loss,val_accuracy\n"
          ]
        },
        {
          "name": "stdout",
          "output_type": "stream",
          "text": [
            "\n",
            "Epoch 1: saving model to ./bestmodel.h5\n",
            "1313/1313 [==============================] - 31s 23ms/step - loss: 0.2164 - accuracy: 0.9350 - val_loss: 0.0803 - val_accuracy: 0.9761\n",
            "Epoch 2/5\n",
            "1312/1313 [============================>.] - ETA: 0s - loss: 0.0774 - accuracy: 0.9758"
          ]
        },
        {
          "name": "stderr",
          "output_type": "stream",
          "text": [
            "WARNING:tensorflow:Early stopping conditioned on metric `val_acc` which is not available. Available metrics are: loss,accuracy,val_loss,val_accuracy\n"
          ]
        },
        {
          "name": "stdout",
          "output_type": "stream",
          "text": [
            "\n",
            "Epoch 2: saving model to ./bestmodel.h5\n",
            "1313/1313 [==============================] - 32s 25ms/step - loss: 0.0774 - accuracy: 0.9759 - val_loss: 0.0602 - val_accuracy: 0.9817\n",
            "Epoch 3/5\n",
            "1311/1313 [============================>.] - ETA: 0s - loss: 0.0557 - accuracy: 0.9825"
          ]
        },
        {
          "name": "stderr",
          "output_type": "stream",
          "text": [
            "WARNING:tensorflow:Early stopping conditioned on metric `val_acc` which is not available. Available metrics are: loss,accuracy,val_loss,val_accuracy\n"
          ]
        },
        {
          "name": "stdout",
          "output_type": "stream",
          "text": [
            "\n",
            "Epoch 3: saving model to ./bestmodel.h5\n",
            "1313/1313 [==============================] - 30s 23ms/step - loss: 0.0558 - accuracy: 0.9824 - val_loss: 0.0489 - val_accuracy: 0.9848\n",
            "Epoch 4/5\n",
            "1312/1313 [============================>.] - ETA: 0s - loss: 0.0449 - accuracy: 0.9859"
          ]
        },
        {
          "name": "stderr",
          "output_type": "stream",
          "text": [
            "WARNING:tensorflow:Early stopping conditioned on metric `val_acc` which is not available. Available metrics are: loss,accuracy,val_loss,val_accuracy\n"
          ]
        },
        {
          "name": "stdout",
          "output_type": "stream",
          "text": [
            "\n",
            "Epoch 4: saving model to ./bestmodel.h5\n",
            "1313/1313 [==============================] - 30s 23ms/step - loss: 0.0449 - accuracy: 0.9859 - val_loss: 0.0454 - val_accuracy: 0.9860\n",
            "Epoch 5/5\n",
            "1313/1313 [==============================] - ETA: 0s - loss: 0.0393 - accuracy: 0.9877"
          ]
        },
        {
          "name": "stderr",
          "output_type": "stream",
          "text": [
            "WARNING:tensorflow:Early stopping conditioned on metric `val_acc` which is not available. Available metrics are: loss,accuracy,val_loss,val_accuracy\n"
          ]
        },
        {
          "name": "stdout",
          "output_type": "stream",
          "text": [
            "\n",
            "Epoch 5: saving model to ./bestmodel.h5\n",
            "1313/1313 [==============================] - 30s 23ms/step - loss: 0.0393 - accuracy: 0.9877 - val_loss: 0.0407 - val_accuracy: 0.9877\n"
          ]
        }
      ],
      "source": [
        "his = model.fit(x_train, y_train, epochs= 5, validation_split= 0.3, callbacks= cb)"
      ]
    },
    {
      "cell_type": "code",
      "execution_count": 12,
      "metadata": {
        "colab": {
          "base_uri": "https://localhost:8080/"
        },
        "id": "jKZ4SwVTT-ZZ",
        "outputId": "26f87c43-13a3-4b34-8507-f19730f4964d"
      },
      "outputs": [
        {
          "name": "stdout",
          "output_type": "stream",
          "text": [
            "313/313 [==============================] - 2s 6ms/step\n"
          ]
        }
      ],
      "source": [
        "import numpy as np \n",
        "y_pred = model.predict(x_test)"
      ]
    },
    {
      "cell_type": "code",
      "execution_count": 13,
      "metadata": {
        "colab": {
          "base_uri": "https://localhost:8080/"
        },
        "id": "dm_xwm5OT_UG",
        "outputId": "912f1e36-ffdb-484d-fd96-09b96b6bba18"
      },
      "outputs": [
        {
          "data": {
            "text/plain": [
              "array([7, 2, 1, ..., 4, 5, 6])"
            ]
          },
          "execution_count": 13,
          "metadata": {},
          "output_type": "execute_result"
        }
      ],
      "source": [
        "y_pred = np.argmax(y_pred,axis = 1)\n",
        "y_pred"
      ]
    },
    {
      "cell_type": "code",
      "execution_count": 14,
      "metadata": {
        "id": "MTE4ve2gGYmX"
      },
      "outputs": [],
      "source": [
        "from sklearn.metrics import accuracy_score"
      ]
    },
    {
      "cell_type": "code",
      "execution_count": 15,
      "metadata": {
        "colab": {
          "base_uri": "https://localhost:8080/"
        },
        "id": "fgVERXgKXZEq",
        "outputId": "ab94bdc2-26b1-420e-8a7d-543b4f4826cf"
      },
      "outputs": [
        {
          "data": {
            "text/plain": [
              "array([7, 2, 1, ..., 4, 5, 6])"
            ]
          },
          "execution_count": 15,
          "metadata": {},
          "output_type": "execute_result"
        }
      ],
      "source": [
        "import numpy as np\n",
        "rounded_labels=np.argmax(y_test, axis=1)\n",
        "rounded_labels"
      ]
    },
    {
      "cell_type": "code",
      "execution_count": 16,
      "metadata": {
        "colab": {
          "base_uri": "https://localhost:8080/"
        },
        "id": "ntNt3EtpPzrV",
        "outputId": "7ef41e32-2be7-4ce7-ed1f-aedb36af936e"
      },
      "outputs": [
        {
          "data": {
            "text/plain": [
              "0.989"
            ]
          },
          "execution_count": 16,
          "metadata": {},
          "output_type": "execute_result"
        }
      ],
      "source": [
        "accuracy_score(y_pred,rounded_labels)"
      ]
    }
  ],
  "metadata": {
    "colab": {
      "name": "Mnist.ipynb",
      "provenance": []
    },
    "kernelspec": {
      "display_name": "Python 3",
      "language": "python",
      "name": "python3"
    },
    "language_info": {
      "name": "python",
      "version": "3.10.9 (tags/v3.10.9:1dd9be6, Dec  6 2022, 20:01:21) [MSC v.1934 64 bit (AMD64)]"
    },
    "vscode": {
      "interpreter": {
        "hash": "0ceb9393b8a55af64923b3f6bfb34455af15bc7c980d048e17860f7eb328a5fe"
      }
    }
  },
  "nbformat": 4,
  "nbformat_minor": 0
}
